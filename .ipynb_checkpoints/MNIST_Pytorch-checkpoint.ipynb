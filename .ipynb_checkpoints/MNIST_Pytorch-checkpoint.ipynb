{
 "cells": [
  {
   "cell_type": "markdown",
   "metadata": {},
   "source": [
    "In this code I will be using Pytorch to implement a Multilayer Perceptron"
   ]
  },
  {
   "cell_type": "markdown",
   "metadata": {},
   "source": [
    "# Importing libraries"
   ]
  },
  {
   "cell_type": "code",
   "execution_count": 19,
   "metadata": {},
   "outputs": [],
   "source": [
    "import matplotlib.pyplot as plt\n",
    "\n",
    "#importing root package\n",
    "import torch\n",
    "\n",
    "#importing vision dataset, tensor transforming function\n",
    "from torchvision import transforms, datasets\n",
    "\n",
    "#importing Module, layer types classes, activation function classes, loss funtions classes\n",
    "import torch.nn as nn\n",
    "\n",
    "#importing layer types function, activation functions, loss funtions\n",
    "import torch.nn.functional as F\n",
    "\n",
    "#importing optimizers\n",
    "import torch.optim as optim"
   ]
  },
  {
   "cell_type": "markdown",
   "metadata": {},
   "source": [
    "# Loading data\n",
    "Loading data and transform them to tensors.<br>\n",
    "Shuffling data and grouping data with batch-size"
   ]
  },
  {
   "cell_type": "code",
   "execution_count": 59,
   "metadata": {
    "scrolled": false
   },
   "outputs": [],
   "source": [
    "train = datasets.MNIST(root='./train', train=True, download=True,\n",
    "                       transform=transforms.Compose([transforms.ToTensor()]))\n",
    "\n",
    "test = datasets.MNIST('', train=False, download=True,\n",
    "                       transform=transforms.Compose([transforms.ToTensor()]))\n",
    "\n",
    "training_data = torch.utils.data.DataLoader(train, batch_size=64, shuffle=True)\n",
    "test_data = torch.utils.data.DataLoader(test, batch_size=64, shuffle=True)"
   ]
  },
  {
   "cell_type": "markdown",
   "metadata": {},
   "source": [
    "Each iterator value in Training_Data is now a list of of two batch-size tensors, one tensor for data and one for their labels. Each tensor is an array which contains \"batch-size\" data.<br>\n",
    "To access each batch data, run an iterative loop statement on Training_Data.<br>\n",
    "Each data tensor has shape of (BATCH_SIZE=64, IMAGE_CHANNEL=1, IMAGE_WIDTH=28, IMAGE_HEIGHT=28)."
   ]
  },
  {
   "cell_type": "code",
   "execution_count": 60,
   "metadata": {},
   "outputs": [
    {
     "name": "stdout",
     "output_type": "stream",
     "text": [
      "torch.Size([64, 1, 28, 28])\n"
     ]
    }
   ],
   "source": [
    "for batch in training_data:\n",
    "    training_data_tensor = batch[0]\n",
    "    print(training_data_tensor.size())\n",
    "    break"
   ]
  },
  {
   "cell_type": "markdown",
   "metadata": {},
   "source": [
    "Printing a sample"
   ]
  },
  {
   "cell_type": "code",
   "execution_count": 61,
   "metadata": {},
   "outputs": [
    {
     "name": "stdout",
     "output_type": "stream",
     "text": [
      "label:  tensor(9)\n"
     ]
    },
    {
     "data": {
      "image/png": "[encoded data removed]",
      "text/plain": [
       "<Figure size 432x288 with 1 Axes>"
      ]
     },
     "metadata": {
      "needs_background": "light"
     },
     "output_type": "display_data"
    }
   ],
   "source": [
    "for batch in training_data:\n",
    "    training_data_tensor, training_labels_tensor = batch\n",
    "    print(\"label: \", training_labels_tensor[0] )\n",
    "    plt.imshow(training_data_tensor[0].view(28,28))      #reshaping data with shape of (1,28,28) to (28,28)\n",
    "    break"
   ]
  },
  {
   "cell_type": "markdown",
   "metadata": {},
   "source": [
    "# Building a class for MLP model\n",
    "The Net class inherits the constructor of nn.Module and defines it's own type of layers inside constructor. In this case, the net has 1 input layer, 3 fully connected layers and 1 output layer.<br>\n",
    "The forward function defines the model architecture, how the data flow and the activation function of each layer."
   ]
  },
  {
   "cell_type": "code",
   "execution_count": 66,
   "metadata": {},
   "outputs": [],
   "source": [
    "class Net(nn.Module):\n",
    "    def __init__(self):\n",
    "        super().__init__()\n",
    "        self.fc1 = nn.Linear(28*28, 64)\n",
    "        self.fc2 = nn.Linear(64, 64)\n",
    "        self.fc3 = nn.Linear(64, 64)\n",
    "        self.fc4 = nn.Linear(64, 10)\n",
    "        \n",
    "    def forward(self, x):\n",
    "        x = x.view(-1,28*28)       #reshaping training_data_tensor with shape of(64,1,28,28) to (64,1,28*28)\n",
    "        x = F.relu(self.fc1(x))\n",
    "        x = F.relu(self.fc2(x))\n",
    "        x = F.relu(self.fc3(x))\n",
    "        x = F.log_softmax(self.fc4(x))\n",
    "        return x   "
   ]
  },
  {
   "cell_type": "markdown",
   "metadata": {},
   "source": [
    "Compiling model using Adam optimizer and CrossEntropy loss function <br>\n",
    "Setting learning rate"
   ]
  },
  {
   "cell_type": "code",
   "execution_count": 67,
   "metadata": {},
   "outputs": [],
   "source": [
    "model = Net()"
   ]
  },
  {
   "cell_type": "code",
   "execution_count": 68,
   "metadata": {},
   "outputs": [],
   "source": [
    "opt = optim.Adam(model.parameters(), lr=0.001)"
   ]
  },
  {
   "cell_type": "markdown",
   "metadata": {},
   "source": [
    "# Feeding data and training the model"
   ]
  },
  {
   "cell_type": "code",
   "execution_count": 69,
   "metadata": {},
   "outputs": [
    {
     "name": "stderr",
     "output_type": "stream",
     "text": [
      "/home/hoan/anaconda3/lib/python3.7/site-packages/ipykernel_launcher.py:14: UserWarning: Implicit dimension choice for log_softmax has been deprecated. Change the call to include dim=X as an argument.\n",
      "  \n"
     ]
    },
    {
     "name": "stdout",
     "output_type": "stream",
     "text": [
      "tensor(0.1314, grad_fn=<NllLossBackward>)\n",
      "tensor(0.1533, grad_fn=<NllLossBackward>)\n",
      "tensor(0.0504, grad_fn=<NllLossBackward>)\n",
      "tensor(0.0366, grad_fn=<NllLossBackward>)\n",
      "tensor(0.0188, grad_fn=<NllLossBackward>)\n"
     ]
    }
   ],
   "source": [
    "model.train()                             #setting model in training mode\n",
    "for epoch in range(5):\n",
    "    for data, labels in training_data:\n",
    "\n",
    "        opt.zero_grad()                   #setting desire gradient to 0         \n",
    "        prediction = model(data)          #feeding data to the model \n",
    "        \n",
    "        loss = F.cross_entropy(prediction, labels)     #caculate the loss value\n",
    "        loss.backward()                          # backprop\n",
    "        opt.step()                               # update weight using optimizer\n",
    "        \n",
    "    print(loss) "
   ]
  },
  {
   "cell_type": "markdown",
   "metadata": {},
   "source": [
    "# Evaluating the model's performance on test data"
   ]
  },
  {
   "cell_type": "code",
   "execution_count": 79,
   "metadata": {},
   "outputs": [
    {
     "name": "stderr",
     "output_type": "stream",
     "text": [
      "/home/hoan/anaconda3/lib/python3.7/site-packages/ipykernel_launcher.py:14: UserWarning: Implicit dimension choice for log_softmax has been deprecated. Change the call to include dim=X as an argument.\n",
      "  \n"
     ]
    },
    {
     "name": "stdout",
     "output_type": "stream",
     "text": [
      "Test loss:  16.140572522766888\n",
      "Test accuracy:  0.968\n"
     ]
    }
   ],
   "source": [
    "test_correct = 0\n",
    "test_total = 10000\n",
    "test_loss = 0\n",
    "\n",
    "with torch.no_grad():                           #turning off gradient \n",
    "    model.eval()                                #setting model in evaluating mode\n",
    "    for data, labels in test_data:\n",
    "        \n",
    "        prediction = model(data)\n",
    "        \n",
    "        test_loss += F.cross_entropy(prediction, labels).item()\n",
    "        \n",
    "        for idx, i in enumerate(prediction):\n",
    "            if torch.argmax(i) == labels[idx]:         #if predicted one hot vector is equivalent to target label \n",
    "                test_correct += 1\n",
    "            \n",
    "print(\"Test loss: \", test_loss)    \n",
    "print(\"Test accuracy: \", round(test_correct/test_total, 3))           \n",
    "        \n"
   ]
  },
  {
   "cell_type": "markdown",
   "metadata": {},
   "source": [
    "printing a prediction sample"
   ]
  },
  {
   "cell_type": "code",
   "execution_count": 70,
   "metadata": {},
   "outputs": [
    {
     "name": "stderr",
     "output_type": "stream",
     "text": [
      "/home/hoan/anaconda3/lib/python3.7/site-packages/ipykernel_launcher.py:14: UserWarning: Implicit dimension choice for log_softmax has been deprecated. Change the call to include dim=X as an argument.\n",
      "  \n"
     ]
    },
    {
     "name": "stdout",
     "output_type": "stream",
     "text": [
      "label:  tensor(8)\n"
     ]
    },
    {
     "data": {
      "image/png": "[encoded data removed]",
      "text/plain": [
       "<Figure size 432x288 with 1 Axes>"
      ]
     },
     "metadata": {
      "needs_background": "light"
     },
     "output_type": "display_data"
    }
   ],
   "source": [
    "for batch in test_data:\n",
    "    test_data_tensor = batch[0]\n",
    "    prediction = model(test_data_tensor[0])\n",
    "    print(\"label: \", torch.argmax(prediction))\n",
    "    plt.imshow(test_data_tensor[0].view(28,28))\n",
    "    break"
   ]
  }
 ],
 "metadata": {
  "kernelspec": {
   "display_name": "Python 3",
   "language": "python",
   "name": "python3"
  },
  "language_info": {
   "codemirror_mode": {
    "name": "ipython",
    "version": 3
   },
   "file_extension": ".py",
   "mimetype": "text/x-python",
   "name": "python",
   "nbconvert_exporter": "python",
   "pygments_lexer": "ipython3",
   "version": "3.7.3"
  }
 },
 "nbformat": 4,
 "nbformat_minor": 2
}
